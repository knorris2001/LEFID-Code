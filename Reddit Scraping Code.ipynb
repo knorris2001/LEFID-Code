{
 "cells": [
  {
   "cell_type": "code",
   "execution_count": null,
   "id": "e5801d6c",
   "metadata": {},
   "outputs": [],
   "source": [
    "##AUTHOR: Katherine Norris\n",
    "##PROJECT: MASTER'S THESIS 2024 \"MODERATION IN ONLINE INCEL FORUMS: A COMPARISON OF WARNING BEHAVIORS\"\n",
    "##COPYRIGHT: Copyright Katherine E. Norris 2024 ALL RIGHTS RESERVED"
   ]
  },
  {
   "cell_type": "code",
   "execution_count": 5,
   "id": "5a9125af-cd3e-4d5e-a12e-1395d07c9ff6",
   "metadata": {
    "tags": []
   },
   "outputs": [
    {
     "ename": "SyntaxError",
     "evalue": "invalid syntax (891367990.py, line 2)",
     "output_type": "error",
     "traceback": [
      "\u001b[1;36m  Cell \u001b[1;32mIn[5], line 2\u001b[1;36m\u001b[0m\n\u001b[1;33m    pip install praw\u001b[0m\n\u001b[1;37m        ^\u001b[0m\n\u001b[1;31mSyntaxError\u001b[0m\u001b[1;31m:\u001b[0m invalid syntax\n"
     ]
    }
   ],
   "source": [
    "#Installing packages\n",
    "pip install praw\n"
   ]
  },
  {
   "cell_type": "code",
   "execution_count": 40,
   "id": "5792052c-e4ef-4df4-b595-5ead0c30ef04",
   "metadata": {
    "tags": []
   },
   "outputs": [],
   "source": [
    "#Loading Libraries\n",
    "import praw\n",
    "import pandas as pd\n",
    "from praw.models import MoreComments\n",
    "\n",
    "from datetime import datetime"
   ]
  },
  {
   "cell_type": "code",
   "execution_count": 13,
   "id": "493f7a38-163e-4412-93dd-1d7200300680",
   "metadata": {
    "tags": []
   },
   "outputs": [],
   "source": [
    "#read-only instance\n",
    "reddit_read_only= praw.Reddit(client_id=\"XdEXTO1DhofXfW2g6Sv5CA\",\n",
    "                             client_secret=\"SdhrXQtcYgHqCrxJAoEIsjmOVKFuqg\",\n",
    "                             user_agent=\"Involuntary Celibate Scraping\")\n",
    "\n",
    "#Authorized instance\n",
    "reddit_authorized= praw.Reddit(client_id=\"XdEXTO1DhofXfW2g6Sv5CA\",\n",
    "                             client_secret=\"SdhrXQtcYgHqCrxJAoEIsjmOVKFuqg\",\n",
    "                             user_agent=\"Involuntary Celibate Scraping\",\n",
    "                              username=\"Invalid_Jar_\",\n",
    "                              password=\"Titanic!1912\")"
   ]
  },
  {
   "cell_type": "code",
   "execution_count": 14,
   "id": "09507d1a-1d59-4bd4-a466-49925ca44de8",
   "metadata": {
    "tags": []
   },
   "outputs": [],
   "source": [
    "#read-only instance -- first post \n",
    "reddit_read_only= praw.Reddit(client_id=\"XdEXTO1DhofXfW2g6Sv5CA\",\n",
    "                             client_secret=\"SdhrXQtcYgHqCrxJAoEIsjmOVKFuqg\",\n",
    "                             user_agent=\"Involuntary Celibate Scraping\")\n",
    "\n",
    "subreddit=reddit_read_only.subreddit(\"ForeverAlone\")"
   ]
  },
  {
   "cell_type": "code",
   "execution_count": 15,
   "id": "6bc4fc8f-799a-4fca-b3ea-305e1026d67d",
   "metadata": {
    "tags": []
   },
   "outputs": [
    {
     "name": "stdout",
     "output_type": "stream",
     "text": [
      "Display Name: ForeverAlone\n",
      "Title: Forever Alone, Together!\n",
      "Description: A subreddit for ForeverAlone folks.\n",
      "\n",
      "----\n",
      "\n",
      "\n",
      "This is a community. Please treat others with respect even if you disagree with them. [Click here to enter our Discord room.](https://discord.gg/TvDz9jB)\n",
      "\n",
      "###Discord!: [Click Here to Enter](https://discord.gg/TvDz9jB)\n",
      "\n",
      "\n",
      "####Rules:\n",
      "\n",
      " - 1: Be polite, friendly and welcoming.\n",
      "\n",
      " - 2: No Gatekeeping. Do not tell anyone they are not forever alone enough to be here. ForeverAlone has no firm definition. ForeverAlone is not something you achieve, its something you use to describe yourself.\n",
      "\n",
      " - 3: Do not post inflammatory comments or threads designed to generalize, demean, insult or otherwise degrade an entire group of people (race, gender, sexual orientation, religion etc).\n",
      "\n",
      " - 4: This is not an incel sub, any incel references, slang, or inference will be deemed hate speech and met with a ban. This includes any type of \"pill\" content. No \"suicidefuel\" posts or comments.\n",
      "\n",
      " - 5: Avoid posts that serve only to advertise other blogs, subreddits or external sites as we have no control over these external resources. Any such posts may be removed. \n",
      "\n",
      " - 6: If you see trolling, [report it to the mods](http://www.reddit.com/message/compose?to=%23ForeverAlone&subject=Trolling).\n",
      "\n",
      " - 7: Any posts created to intentionally start drama on any subject will be removed.  (i.e. linking other subreddits, crossposts to other subreddits, publicly calling out other users, etc.) This also includes Meta conversations about the sub or Moderation Policy.\n",
      "\n",
      " - 8: Do not post your dick.\n",
      "\n",
      " - 9: No selfies/rate me threads.\n",
      "\n",
      " - 10: No suicide/violent threads.\n",
      " \n",
      " - 11: No posts or comments promoting the belief that physical appearance is the sole measure of value or worth. \n",
      "\n",
      " - 12: No dating posts/comments. Use r/ForeverAloneDating or other subreddits for that. \n",
      "\n",
      "----\n",
      "\n",
      "###Sort by topics:\n",
      "\n",
      "[Success Stories](/r/ForeverAlone/search?q=flair%3A%27success%27&sort=new&restrict_sr=on&t=all)\n",
      "\n",
      "[Vent](/r/ForeverAlone/search?q=flair%3A%27vent%27&sort=new&restrict_sr=on&t=all)\n",
      "\n",
      "[Advice Wanted](/r/ForeverAlone/search?q=flair%3A%27advice%27&sort=new&restrict_sr=on&t=all)\n",
      "\n",
      "----\n",
      "\n",
      "\n",
      "[Need a date? Try out Forever Alone Dating!](/r/foreveralonedating)\n",
      "\n",
      "----\n"
     ]
    }
   ],
   "source": [
    "#display subreddit name\n",
    "print(\"Display Name:\",subreddit.display_name)\n",
    "\n",
    "#display title of the subreddit\n",
    "print(\"Title:\",subreddit.title)\n",
    "\n",
    "#display description of subreddit + subreddit rules\n",
    "print(\"Description:\",subreddit.description)"
   ]
  },
  {
   "cell_type": "code",
   "execution_count": 16,
   "id": "11efc6f9-776d-45be-9ca7-e033e8fdf006",
   "metadata": {
    "tags": []
   },
   "outputs": [
    {
     "name": "stdout",
     "output_type": "stream",
     "text": [
      "Basically me when I see a girl\n",
      "\n",
      "Take it or leave it\n",
      "\n",
      "I will do a pushup for every upvote on this\n",
      "\n",
      "I got home from work this morning and this was under my door from the neighbours. I cried.\n",
      "\n",
      "Daily FA Meme №6\n",
      "\n",
      "It's depressing to see this\n",
      "\n",
      "Daily FA Meme №23\n",
      "\n",
      "This hits me deep\n",
      "\n",
      "I don't think I lived up to my parents' expectations. Or their fears.\n",
      "\n",
      "Here is something for you guys\n",
      "\n"
     ]
    }
   ],
   "source": [
    "#Attributing subreddit to an object\n",
    "subreddit=reddit_read_only.subreddit(\"ForeverAlone\")\n",
    "\n",
    "#Scraping the top 10 posts\n",
    "for post in subreddit.top(limit=10):              #to get hot, new, top, etc. replace \"top\"\n",
    "    print(post.title)\n",
    "    print()"
   ]
  },
  {
   "cell_type": "code",
   "execution_count": 17,
   "id": "cc0dd9ba-e31f-4b4d-b303-41d7c46f58eb",
   "metadata": {
    "tags": []
   },
   "outputs": [],
   "source": [
    "#Getting Post Time\n",
    "import datetime\n",
    "\n",
    "date= datetime.datetime.fromtimestamp(post.created_utc)\n",
    "dif=datetime.datetime.utcnow()\n",
    "\n"
   ]
  },
  {
   "cell_type": "code",
   "execution_count": null,
   "id": "c9282060-fca3-4cbf-b9f1-973a7ba38d46",
   "metadata": {
    "jupyter": {
     "source_hidden": true
    },
    "tags": []
   },
   "outputs": [],
   "source": [
    "#Saving top post in a pandas data frame **OLD POST CODE; DOES NOT INCLUDE COMMENTS**\n",
    "\n",
    "posts = subreddit.top(\"all\")\n",
    "\n",
    "posts_dict={\"Author\":[], \"Title\":[], \"DOP\":[], \"Post Text\":[], \"Post Links\":[], \"ID\":[], \"Score\":[], \"Total Comments\":[], \"Post URL\": []}\n",
    "\n",
    "for post in posts:\n",
    "    if post.created_utc >= 1577858400 and post.created_utc <= 1693544399:\n",
    "        #Author of posts \n",
    "        posts_dict[\"Author\"].append(post.author)\n",
    "    \n",
    "        #Title of each post\n",
    "        posts_dict[\"Title\"].append(post.title)\n",
    "    \n",
    "        #Time of each post, translated from unix time\n",
    "        date= datetime.fromtimestamp(post.created_utc)\n",
    "        dif=datetime.utcnow()\n",
    "        posts_dict[\"DOP\"].append(date)\n",
    "    \n",
    "        #Text inside post\n",
    "        posts_dict[\"Post Text\"].append(post.selftext)\n",
    "    \n",
    "       #Links (if any) in posts\n",
    "        posts_dict[\"Post Links\"].append(post.url)\n",
    "    \n",
    "        #ID of post\n",
    "        posts_dict[\"ID\"].append(post.id)\n",
    "    \n",
    "        #Score\n",
    "        posts_dict[\"Score\"].append(post.score)\n",
    "    \n",
    "        ## of comments\n",
    "        posts_dict[\"Total Comments\"].append(post.num_comments)\n",
    "    \n",
    "        #URL of each post\n",
    "        posts_dict[\"Post URL\"].append('https://www.reddit.com'+post.permalink)\n",
    "    \n",
    "#Saving data in dataframe\n",
    "top_posts= pd.DataFrame(posts_dict)\n",
    "top_posts[0:11]"
   ]
  },
  {
   "cell_type": "code",
   "execution_count": 81,
   "id": "3c556472-554b-441b-8ae7-c3515a9bb058",
   "metadata": {
    "tags": []
   },
   "outputs": [
    {
     "name": "stderr",
     "output_type": "stream",
     "text": [
      "C:\\Users\\newye\\AppData\\Local\\Temp\\ipykernel_29116\\1081438626.py:3: DeprecationWarning: Positional arguments for 'BaseListingMixin.top' will no longer be supported in PRAW 8.\n",
      "Call this function with 'time_filter' as a keyword argument.\n",
      "  posts = subreddit.top(\"all\")\n"
     ]
    }
   ],
   "source": [
    "#Saving top post in a pandas data frame\n",
    "\n",
    "posts = subreddit.top(\"all\")\n",
    "\n",
    "posts_dict={\"Author\":[], \"Title\":[], \"DOP\":[], \"Post Text\":[], \"Post Links\":[], \"ID\":[], \"Score\":[], \"Total Comments\":[], \"Post URL\": []}\n",
    "comments_dict={\"Post ID\":[], \"Parent ID\":[], \"Comment ID\":[],\"Author\":[], \"Comments\":[], \"DOP\":[]}\n",
    "\n",
    "for post in posts:\n",
    "    if post.created_utc >= 1577858400 and post.created_utc <= 1693544399:\n",
    "        #Author of posts \n",
    "        posts_dict[\"Author\"].append(post.author)\n",
    "    \n",
    "        #Title of each post\n",
    "        posts_dict[\"Title\"].append(post.title)\n",
    "    \n",
    "        #Time of each post, translated from unix time\n",
    "        date= datetime.fromtimestamp(post.created_utc)\n",
    "        dif=datetime.utcnow()\n",
    "        posts_dict[\"DOP\"].append(date)\n",
    "    \n",
    "        #Text inside post\n",
    "        posts_dict[\"Post Text\"].append(post.selftext)\n",
    "    \n",
    "       #Links (if any) in posts\n",
    "        posts_dict[\"Post Links\"].append(post.url)\n",
    "    \n",
    "        #ID of post\n",
    "        posts_dict[\"ID\"].append(post.id)\n",
    "    \n",
    "        #Score\n",
    "        posts_dict[\"Score\"].append(post.score)\n",
    "    \n",
    "        ## of comments\n",
    "        posts_dict[\"Total Comments\"].append(post.num_comments)\n",
    "    \n",
    "        #URL of each post\n",
    "        posts_dict[\"Post URL\"].append('https://www.reddit.com'+post.permalink)\n",
    "        \n",
    "        #Flattens commentforest and creates list; t3 is parent comment, t1 is child (reply to comment)\n",
    "        post.comments.replace_more(limit=None)\n",
    "        for comment in post.comments.list():\n",
    "            \n",
    "            comments_dict[\"Post ID\"].append(post.id)\n",
    "            \n",
    "            comments_dict[\"Parent ID\"].append(comment.parent_id)\n",
    "            \n",
    "            comments_dict[\"Comment ID\"].append(comment.id)\n",
    "               \n",
    "            comments_dict[\"Author\"].append(comment.author)\n",
    "            \n",
    "            comments_dict[\"Comments\"].append(comment.body)\n",
    "            \n",
    "            date= datetime.fromtimestamp(comment.created_utc)\n",
    "            dif=datetime.utcnow()\n",
    "            comments_dict[\"DOP\"].append(date)\n",
    "            \n",
    "#Saving data in dataframe\n",
    "top_posts= pd.DataFrame(posts_dict)\n",
    "comment_posts= pd.DataFrame(comments_dict)\n"
   ]
  },
  {
   "cell_type": "code",
   "execution_count": 82,
   "id": "2ce6fe9a-b1be-4281-9cd2-817af5b6ad59",
   "metadata": {
    "tags": []
   },
   "outputs": [],
   "source": [
    "#Exporting top posts to a csv\n",
    "top_posts.to_csv(\"Top Posts Mod.csv\", index=True)\n",
    "\n",
    "#exporting top comments to a csv\n",
    "comment_posts.to_csv(\"Top Replies Mod.csv\", index=True)"
   ]
  },
  {
   "cell_type": "code",
   "execution_count": null,
   "id": "cb2fdff7-f5d2-4aa7-9cae-083753ba054b",
   "metadata": {},
   "outputs": [],
   "source": []
  }
 ],
 "metadata": {
  "kernelspec": {
   "display_name": "Python 3 (ipykernel)",
   "language": "python",
   "name": "python3"
  },
  "language_info": {
   "codemirror_mode": {
    "name": "ipython",
    "version": 3
   },
   "file_extension": ".py",
   "mimetype": "text/x-python",
   "name": "python",
   "nbconvert_exporter": "python",
   "pygments_lexer": "ipython3",
   "version": "3.11.4"
  }
 },
 "nbformat": 4,
 "nbformat_minor": 5
}
